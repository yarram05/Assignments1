{
 "cells": [
  {
   "cell_type": "code",
   "execution_count": 7,
   "id": "33efb75d-3c89-4fe9-9b18-05d7c9fc1046",
   "metadata": {
    "tags": []
   },
   "outputs": [
    {
     "name": "stdout",
     "output_type": "stream",
     "text": [
      "'192.168.1.1' is IPv4\n",
      "'2001:0db8:85a3:0000:0000:8a2e:0370:7334' is IPv6\n",
      "'not_an_ip' is Invalid\n"
     ]
    }
   ],
   "source": [
    "import re\n",
    "import logging\n",
    "\n",
    "# Initialize the logger\n",
    "logging.basicConfig(filename='ip_validation.log', level=logging.INFO)\n",
    "\n",
    "def validate_ip(ip_string):\n",
    "    # Regular expressions for IPv4 and IPv6 patterns\n",
    "    ipv4_pattern = r'^\\b(?:\\d{1,3}\\.){3}\\d{1,3}\\b$'\n",
    "    ipv6_pattern = r'^\\b[0-9a-fA-F:]+\\b$'\n",
    "\n",
    "    # Check if the input matches IPv4 pattern\n",
    "    if re.match(ipv4_pattern, ip_string):\n",
    "        logging.info(f\"'{ip_string}' is a valid IPv4 address.\")\n",
    "        return \"IPv4\"\n",
    "    \n",
    "    # Check if the input matches IPv6 pattern\n",
    "    elif re.match(ipv6_pattern, ip_string):\n",
    "        logging.info(f\"'{ip_string}' is a valid IPv6 address.\")\n",
    "        return \"IPv6\"\n",
    "    \n",
    "    else:\n",
    "        logging.error(f\"'{ip_string}' is an invalid IP address.\")\n",
    "        return \"Invalid\"\n",
    "\n",
    "if __name__ == \"__main__\":\n",
    "    # List of IP addresses to validate\n",
    "    ip_addresses = [\"192.168.1.1\", \"2001:0db8:85a3:0000:0000:8a2e:0370:7334\", \"not_an_ip\"]\n",
    "\n",
    "    for ip_address in ip_addresses:\n",
    "        result = validate_ip(ip_address)\n",
    "        print(f\"'{ip_address}' is {result}\")\n"
   ]
  },
  {
   "cell_type": "code",
   "execution_count": 34,
   "id": "78d36e51-d43d-4c3c-8132-9fb2d94f62bc",
   "metadata": {
    "tags": []
   },
   "outputs": [],
   "source": [
    "import socket\n",
    "import logging\n",
    "\n",
    "logging.basicConfig(level=logging.INFO)\n",
    "\n",
    "def start_server(host, port):\n",
    "    server_socket = socket.socket(socket.AF_INET, socket.SOCK_STREAM)\n",
    "    server_socket.bind((host, port))\n",
    "    server_socket.listen(5)\n",
    "    logging.info(f\"Server listening on {host}:{port}\")\n",
    "\n",
    "    while True:\n",
    "        client_socket, addr = server_socket.accept()\n",
    "        logging.info(f\"Accepted connection from {addr}\")\n",
    "        handle_client(client_socket)\n",
    "\n",
    "def handle_client(client_socket):\n",
    "    welcome_message = \"Welcome to the server!\"\n",
    "    client_socket.send(welcome_message.encode())\n",
    "\n",
    "    data = client_socket.recv(1024)\n",
    "    logging.info(f\"Received from client: {data.decode()}\")\n",
    "\n",
    "    response = \"Thank you for connecting!\"\n",
    "    client_socket.send(response.encode())\n",
    "\n",
    "    client_socket.close()\n",
    "\n",
    "def start_client(host, port):\n",
    "    client_socket = socket.socket(socket.AF_INET, socket.SOCK_STREAM)\n",
    "    client_socket.connect((host, port))\n",
    "\n",
    "    welcome_message = client_socket.recv(1024)\n",
    "    logging.info(f\"Server says: {welcome_message.decode()}\")\n",
    "\n",
    "    data_to_send = \"Hello, server!\"\n",
    "    client_socket.send(data_to_send.encode())\n",
    "\n",
    "    response = client_socket.recv(1024)\n",
    "    logging.info(f\"Server response: {response.decode()}\")\n",
    "\n",
    "    client_socket.close()\n",
    "\n",
    "if __name__ == \"__main__\":\n",
    "    host = '127.0.0.1'\n",
    "    port = 12345\n",
    "\n",
    "    # Start the server in one terminal or as a separate process\n",
    "    # start_server(host, port)\n",
    "\n",
    "    # Start the client in another terminal or as a separate process\n",
    "    # start_client(host, port)\n"
   ]
  },
  {
   "cell_type": "code",
   "execution_count": 5,
   "id": "8bc9998e-9141-4569-a50f-922698d379b6",
   "metadata": {},
   "outputs": [
    {
     "name": "stdout",
     "output_type": "stream",
     "text": [
      "Current time in America/New_York: 2023-09-25 01:49:37 EDT\n",
      "Current time in Europe/London: 2023-09-25 06:49:37 BST\n",
      "Current time in Asia/Tokyo: 2023-09-25 14:49:37 JST\n"
     ]
    }
   ],
   "source": [
    "import datetime\n",
    "import pytz\n",
    "import logging\n",
    "\n",
    "# Initialize the logger\n",
    "logging.basicConfig(filename='timezones.log', level=logging.INFO)\n",
    "\n",
    "def get_current_time_in_timezone(timezone_name):\n",
    "    try:\n",
    "        # Get the current UTC time\n",
    "        current_time_utc = datetime.datetime.now(pytz.utc)\n",
    "        \n",
    "        # Create a timezone object based on the provided timezone_name\n",
    "        target_timezone = pytz.timezone(timezone_name)\n",
    "        \n",
    "        # Convert UTC time to the target timezone\n",
    "        current_time_target = current_time_utc.astimezone(target_timezone)\n",
    "        \n",
    "        # Log the current time in the target timezone\n",
    "        logging.info(f\"Current time in {timezone_name}: {current_time_target.strftime('%Y-%m-%d %H:%M:%S %Z')}\")\n",
    "        \n",
    "        return current_time_target\n",
    "    except pytz.UnknownTimeZoneError:\n",
    "        logging.error(f\"Invalid timezone: {timezone_name}\")\n",
    "        return None\n",
    "\n",
    "if __name__ == \"__main__\":\n",
    "    # List of timezone names you want to retrieve the current time for\n",
    "    timezone_names = [\"America/New_York\", \"Europe/London\", \"Asia/Tokyo\"]\n",
    "\n",
    "    for timezone_name in timezone_names:\n",
    "        current_time = get_current_time_in_timezone(timezone_name)\n",
    "        if current_time:\n",
    "            print(f\"Current time in {timezone_name}: {current_time.strftime('%Y-%m-%d %H:%M:%S %Z')}\")\n"
   ]
  },
  {
   "cell_type": "code",
   "execution_count": null,
   "id": "d14015b7-4602-4302-9bd1-705f072a4c82",
   "metadata": {},
   "outputs": [],
   "source": []
  }
 ],
 "metadata": {
  "kernelspec": {
   "display_name": "Python 3 (ipykernel)",
   "language": "python",
   "name": "python3"
  },
  "language_info": {
   "codemirror_mode": {
    "name": "ipython",
    "version": 3
   },
   "file_extension": ".py",
   "mimetype": "text/x-python",
   "name": "python",
   "nbconvert_exporter": "python",
   "pygments_lexer": "ipython3",
   "version": "3.11.4"
  }
 },
 "nbformat": 4,
 "nbformat_minor": 5
}
